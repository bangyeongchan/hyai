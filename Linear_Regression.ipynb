{
  "nbformat": 4,
  "nbformat_minor": 0,
  "metadata": {
    "colab": {
      "provenance": [],
      "authorship_tag": "ABX9TyPtbEwf25kBiyMJtZahcKDQ",
      "include_colab_link": true
    },
    "kernelspec": {
      "name": "python3",
      "display_name": "Python 3"
    },
    "language_info": {
      "name": "python"
    }
  },
  "cells": [
    {
      "cell_type": "markdown",
      "metadata": {
        "id": "view-in-github",
        "colab_type": "text"
      },
      "source": [
        "<a href=\"https://colab.research.google.com/github/bangyeongchan/hyai/blob/main/Linear_Regression.ipynb\" target=\"_parent\"><img src=\"https://colab.research.google.com/assets/colab-badge.svg\" alt=\"Open In Colab\"/></a>"
      ]
    },
    {
      "cell_type": "code",
      "execution_count": 7,
      "metadata": {
        "id": "LgKprPqOE-q6"
      },
      "outputs": [],
      "source": [
        "import numpy as np\n",
        "\n"
      ]
    },
    {
      "cell_type": "code",
      "source": [
        "x=np.random.rand(100, 1)"
      ],
      "metadata": {
        "id": "Ez-pewcHFiYI"
      },
      "execution_count": 4,
      "outputs": []
    },
    {
      "cell_type": "code",
      "source": [
        "y=1+(2*x)+(.1*np.random.randn(100, 1))"
      ],
      "metadata": {
        "id": "Cqt0L7eYFvjQ"
      },
      "execution_count": 12,
      "outputs": []
    },
    {
      "cell_type": "code",
      "source": [
        "import matplotlib.pyplot as plt\n",
        "\n",
        "fig, ax=plt.subplots()\n",
        "ax.scatter(x, y, label = 'train', alpha=0.5)"
      ],
      "metadata": {
        "colab": {
          "base_uri": "https://localhost:8080/",
          "height": 283
        },
        "id": "utD6e2KFF8hC",
        "outputId": "36187eed-21f7-4a15-f028-0b40273f9f87"
      },
      "execution_count": 23,
      "outputs": [
        {
          "output_type": "execute_result",
          "data": {
            "text/plain": [
              "<matplotlib.collections.PathCollection at 0x7f1e0fc86750>"
            ]
          },
          "metadata": {},
          "execution_count": 23
        },
        {
          "output_type": "display_data",
          "data": {
            "text/plain": [
              "<Figure size 432x288 with 1 Axes>"
            ],
            "image/png": "[encoded data removed]"
          },
          "metadata": {
            "needs_background": "light"
          }
        }
      ]
    },
    {
      "cell_type": "code",
      "source": [
        "#Linear Regression"
      ],
      "metadata": {
        "id": "Tp0q4FEVGKFc"
      },
      "execution_count": null,
      "outputs": []
    },
    {
      "cell_type": "code",
      "source": [
        "w = np.random.randn(1)\n",
        "b = np.random.randn(1)"
      ],
      "metadata": {
        "id": "hOn7HFL-GOri"
      },
      "execution_count": 24,
      "outputs": []
    },
    {
      "cell_type": "code",
      "source": [
        "fig = plt.figure(figsize=(6, 6))\n",
        "\n",
        "plt.scatter(x, y)\n",
        "plt.plot(x, b+w*x, color='red')\n",
        "plt.show()"
      ],
      "metadata": {
        "colab": {
          "base_uri": "https://localhost:8080/",
          "height": 374
        },
        "id": "2AM1cmFAIHC6",
        "outputId": "a4b97029-e7a3-4c57-9abe-9e5b1bc10dcf"
      },
      "execution_count": 25,
      "outputs": [
        {
          "output_type": "display_data",
          "data": {
            "text/plain": [
              "<Figure size 432x432 with 1 Axes>"
            ],
            "image/png": "[encoded data removed]"
          },
          "metadata": {
            "needs_background": "light"
          }
        }
      ]
    },
    {
      "cell_type": "code",
      "source": [
        "\n",
        "def mse(w, b, data):\n",
        "  yhat = w*x+b\n",
        "  error = y-yhat\n",
        "  loss = (error**2).mean()\n",
        "  return error, loss"
      ],
      "metadata": {
        "id": "gR8xYDvyGWiw"
      },
      "execution_count": 26,
      "outputs": []
    },
    {
      "cell_type": "code",
      "source": [
        "def sgd(lr, x, x_grad):\n",
        "  result=x-lr* x_grad\n",
        "  return result"
      ],
      "metadata": {
        "id": "IikpSoCNG0dK"
      },
      "execution_count": 16,
      "outputs": []
    },
    {
      "cell_type": "code",
      "source": [
        "def grad(error, data): \n",
        "  w_grad = -2*(x*error).mean()\n",
        "  b_grad = -2*(error.mean())\n",
        "  return w_grad, b_grad"
      ],
      "metadata": {
        "id": "PF84sQdAHCk9"
      },
      "execution_count": 33,
      "outputs": []
    },
    {
      "cell_type": "code",
      "source": [
        "print(w, b)"
      ],
      "metadata": {
        "colab": {
          "base_uri": "https://localhost:8080/"
        },
        "id": "8PnR2KmAOidF",
        "outputId": "46258abe-bb6b-40f5-fc07-11138aa0f3f5"
      },
      "execution_count": 28,
      "outputs": [
        {
          "output_type": "stream",
          "name": "stdout",
          "text": [
            "[0.63201383] [0.27582746]\n"
          ]
        }
      ]
    },
    {
      "cell_type": "code",
      "source": [
        "lr=0.1\n",
        "n_epochs = 1000\n",
        "error_loss = []\n",
        "for epoch in range(n_epochs):\n",
        "  error, loss = mse(w, b, x)\n",
        "  error_loss.append(loss)\n",
        "  w_grad, b_grad = grad(error, x)\n",
        "  w=sgd(lr, w, w_grad)\n",
        "  b=sgd(lr, b, b_grad)\n",
        "print(w, b)"
      ],
      "metadata": {
        "colab": {
          "base_uri": "https://localhost:8080/"
        },
        "id": "UwxdpUQyHYhM",
        "outputId": "d1a42577-d7fe-4838-bc85-897a348acda1"
      },
      "execution_count": 34,
      "outputs": [
        {
          "output_type": "stream",
          "name": "stdout",
          "text": [
            "[2.0312151] [0.99430093]\n"
          ]
        }
      ]
    },
    {
      "cell_type": "code",
      "source": [
        "fig = plt.figure(figsize=(6, 6))\n",
        "\n",
        "plt.scatter(x, y)\n",
        "plt.plot(x, b+w*x, color='red')\n",
        "plt.show()"
      ],
      "metadata": {
        "colab": {
          "base_uri": "https://localhost:8080/",
          "height": 374
        },
        "id": "3Sg0TJmGI4eY",
        "outputId": "b97c0610-4b3f-4f1d-cb86-61def7fdb182"
      },
      "execution_count": 37,
      "outputs": [
        {
          "output_type": "display_data",
          "data": {
            "text/plain": [
              "<Figure size 432x432 with 1 Axes>"
            ],
            "image/png": "[encoded data removed]"
          },
          "metadata": {
            "needs_background": "light"
          }
        }
      ]
    },
    {
      "cell_type": "code",
      "source": [
        "plt.figure(figsize=(25, 10))\n",
        "plt.yscale('log')\n",
        "plt.scatter([i for i in range(n_epochs)], error_loss, s=5, c='r', label='loss')"
      ],
      "metadata": {
        "colab": {
          "base_uri": "https://localhost:8080/",
          "height": 600
        },
        "id": "WYu0AWarI8bw",
        "outputId": "005acbd2-d182-457c-c1f9-cd0e03516e03"
      },
      "execution_count": 36,
      "outputs": [
        {
          "output_type": "execute_result",
          "data": {
            "text/plain": [
              "<matplotlib.collections.PathCollection at 0x7f1e0fb7fad0>"
            ]
          },
          "metadata": {},
          "execution_count": 36
        },
        {
          "output_type": "display_data",
          "data": {
            "text/plain": [
              "<Figure size 1800x720 with 1 Axes>"
            ],
            "image/png": "[encoded data removed]"
          },
          "metadata": {
            "needs_background": "light"
          }
        }
      ]
    },
    {
      "cell_type": "code",
      "source": [],
      "metadata": {
        "id": "2PFNtpmWLE1P"
      },
      "execution_count": null,
      "outputs": []
    },
    {
      "cell_type": "code",
      "source": [],
      "metadata": {
        "id": "8ZmlDxluLFDL"
      },
      "execution_count": null,
      "outputs": []
    }
  ]
}